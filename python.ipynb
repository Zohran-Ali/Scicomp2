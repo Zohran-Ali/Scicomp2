{
 "cells": [
  {
   "cell_type": "code",
   "execution_count": 6,
   "metadata": {},
   "outputs": [],
   "source": [
    "import numpy  as np\n",
    "from qulacs import QuantumState\n"
   ]
  },
  {
   "cell_type": "code",
   "execution_count": null,
   "metadata": {},
   "outputs": [],
   "source": [
    "num_qubits = 2# Number of qubits in the system\n",
    "\n",
    "# Initialize the state |01> as the tensor product of |0> |1>\n",
    "initial_states = [0 ,1] # This represents the state |0>\n",
    "initial_state = initialize_state(num_qubits, initial_states)\n",
    "\n",
    "print(initial_state)\n"
   ]
  },
  {
   "cell_type": "code",
   "execution_count": 203,
   "metadata": {},
   "outputs": [
    {
     "name": "stdout",
     "output_type": "stream",
     "text": [
      "[0. 1. 0. 0.]\n"
     ]
    }
   ],
   "source": [
    "class State:\n",
    "    def __init__(self, num_qubits,initial_states):\n",
    "        self.num_qubits = num_qubits\n",
    "        self.initial_states = initial_states\n",
    "        self.state = np.zeros(2**self.num_qubits)\n",
    "        self.index = sum(val * (2**i) for i, val in enumerate(reversed(self.initial_states)))\n",
    "        self.state[self.index] = 1\n",
    "\n",
    "\n",
    "class Gate:\n",
    "        \n",
    "    def tensor_product(self, gates):\n",
    "         self.gates= gates\n",
    "         self.result = self.gates[0]\n",
    "         for self.gate in gates[1:]:\n",
    "            self.result = np.kron(self.result, self.gate)\n",
    "        \n",
    "\n",
    "class Circuit:\n",
    "        def __init__(self):\n",
    "             \n",
    "       \n",
    "\n",
    "    total_unitary = map(procudt, self.gates)\n",
    "    self.out_state = total_unitary.matrix @ self.in_state.vector"
   ]
  },
  {
   "cell_type": "code",
   "execution_count": 24,
   "metadata": {},
   "outputs": [],
   "source": [
    "\n",
    "def sigma_X(): \n",
    "    return np.array([[0, 1], [1, 0]])\n",
    "\n",
    "def sigma_Y():  \n",
    "    return np.array([[0, -1j], [1j, 0]])\n",
    "\n",
    "def sigma_Z(): \n",
    "    return np.array([[1, 0], [0, -1]])\n",
    "\n",
    "def Hadamard():  \n",
    "    return np.array([[1, 1], [1, -1]]) / np.sqrt(2)\n",
    "\n",
    "def phase_gate(): \n",
    "    return np.array([[1, 0], [0, 1j]])\n",
    "\n",
    "\n",
    "def CNOT():\n",
    "    return np.array([[1, 0, 0, 0],\n",
    "                    [0, 1, 0, 0],\n",
    "                    [0, 0, 0, 1],\n",
    "                    [0, 0, 1, 0]])\n",
    "\n",
    "\n",
    "def tensor_product(gates):\n",
    "    \"\"\"description\n",
    "    arg: \n",
    "    \n",
    "    return: \"\"\"\n",
    "    result = gates[0]\n",
    "    for gate in gates[1:]:\n",
    "        result = np.kron(result, gate)\n",
    "    return result\n",
    "\n",
    "def apply_single_qubit_gate(state, gate, qubit, num_qubits):\n",
    "    identity = np.eye(2)\n",
    "    gate_list = [identity] * num_qubits\n",
    "    gate_list[qubit] = gate\n",
    "    full_gate = tensor_product(gate_list)\n",
    "    return np.dot(full_gate, state)\n",
    "\n",
    "def initialize_state(num_qubits, initial_states):\n",
    "    state = np.zeros(2**num_qubits)\n",
    "    index = sum(val * (2**i) for i, val in enumerate(reversed(initial_states)))\n",
    "    state[index] = 1\n",
    "    return state\n",
    "\n",
    "\n",
    "def apply_cnot_gate(state, control, target, num_qubits):\n",
    "    size = 2 ** num_qubits\n",
    "    full_gate = np.eye(size)\n",
    "    \n",
    "    for i in range(size):\n",
    "        control_bit = (i >> control) & 1\n",
    "        if control_bit == 1:\n",
    "            target_bit = (i >> target) & 1\n",
    "            j = i ^ (1 << target)\n",
    "            full_gate[i, i] = 0\n",
    "            full_gate[i, j] = 1\n",
    "            full_gate[j, j] = 0\n",
    "            full_gate[j, i] = 1\n",
    "    \n",
    "    new_state = np.dot(full_gate, state)\n",
    "    return new_state\n",
    "\n",
    "\n",
    "\n",
    "# Simulate a quantum circuit\n",
    "def simulate_circuit(initial_state, gate_operations, num_qubits):\n",
    "    state = initial_state\n",
    "    for gate_op in gate_operations:\n",
    "        gate, qubits = gate_op\n",
    "        if gate.shape == (2, 2):  # Single-qubit gate\n",
    "            state = apply_single_qubit_gate(state, gate, qubits[0], num_qubits)\n",
    "        elif gate.shape == (4, 4):  # CNOT gate\n",
    "            state = apply_cnot_gate(state, qubits[0], qubits[1], num_qubits)\n",
    "        else:\n",
    "            raise ValueError(\"Unsupported gate.\")\n",
    "    return state\n",
    "\n"
   ]
  },
  {
   "cell_type": "code",
   "execution_count": 25,
   "metadata": {},
   "outputs": [
    {
     "name": "stdout",
     "output_type": "stream",
     "text": [
      "18.6 ns ± 1.55 ns per loop (mean ± std. dev. of 7 runs, 10,000,000 loops each)\n",
      "Final state vector: [0. 0. 0. ... 0. 0. 0.]\n"
     ]
    }
   ],
   "source": [
    "\n",
    "num_qubits = 13# Number of qubits in the system\n",
    "\n",
    "# Initialize the state |01> as the tensor product of |0> |1>\n",
    "initial_states = [0 ,1,1,1,0 ,1,1,1,0 ,1,1,0,0] # This represents the state |01>\n",
    "initial_state = initialize_state(num_qubits, initial_states)\n",
    "\n",
    "gate_operations = [    (Hadamard(), [0]),    \n",
    "(sigma_X(), [0]),( CNOT(),[1,2])\n",
    "]\n",
    "\n",
    "\n",
    "Psi_final= simulate_circuit(initial_state, gate_operations, num_qubits)\n",
    "%timeit Psi_final\n",
    "\n",
    "print(\"Final state vector:\", Psi_final)"
   ]
  },
  {
   "cell_type": "code",
   "execution_count": 57,
   "metadata": {},
   "outputs": [],
   "source": [
    "class test():\n",
    "    VAR = \"TTT\"\n",
    "    def __init__(self,ss) -> None:\n",
    "        print(\"car\")\n",
    "        self.t(ss)\n",
    "        self.arg = ss\n",
    "    \n",
    "    def t(self,s):\n",
    "        print(s)\n",
    "    \n",
    "class test2(test):\n",
    "    def __init__(self, ss) -> None:\n",
    "        #super().__init__(ss)\n",
    "        return"
   ]
  },
  {
   "cell_type": "code",
   "execution_count": 58,
   "metadata": {},
   "outputs": [
    {
     "name": "stdout",
     "output_type": "stream",
     "text": [
      "something\n",
      "TTT\n"
     ]
    }
   ],
   "source": [
    "\n",
    "s=test2(\"s\")\n",
    "s.t(\"something\")\n",
    "print(s.VAR)"
   ]
  }
 ],
 "metadata": {
  "kernelspec": {
   "display_name": "Python 3",
   "language": "python",
   "name": "python3"
  },
  "language_info": {
   "codemirror_mode": {
    "name": "ipython",
    "version": 3
   },
   "file_extension": ".py",
   "mimetype": "text/x-python",
   "name": "python",
   "nbconvert_exporter": "python",
   "pygments_lexer": "ipython3",
   "version": "3.12.5"
  }
 },
 "nbformat": 4,
 "nbformat_minor": 2
}
